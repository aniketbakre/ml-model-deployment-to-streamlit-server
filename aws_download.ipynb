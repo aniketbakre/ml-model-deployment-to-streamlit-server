{
 "cells": [
  {
   "cell_type": "code",
   "execution_count": 37,
   "metadata": {},
   "outputs": [],
   "source": [
    "import streamlit as st\n",
    "import paginator\n",
    "import boto3\n",
    "import os\n"
   ]
  },
  {
   "cell_type": "code",
   "execution_count": 38,
   "metadata": {},
   "outputs": [],
   "source": [
    "s3 = boto3.client(\"s3\")"
   ]
  },
  {
   "cell_type": "code",
   "execution_count": null,
   "metadata": {},
   "outputs": [],
   "source": [
    "bucket_name = 'mlops-tinybert-sentimentanalysis'\n",
    "local_path = 'mlops-tinybert-sentimentanalysis/'\n",
    "s3_prefix = 'ml_model/'\n",
    "os.makedirs(local_path, exist_ok=True)"
   ]
  },
  {
   "cell_type": "code",
   "execution_count": 40,
   "metadata": {},
   "outputs": [
    {
     "data": {
      "text/plain": [
       "<module 'paginator' from 'c:\\\\Users\\\\Aniket\\\\Desktop\\\\MLOPS_UDEMY\\\\.venv\\\\Lib\\\\site-packages\\\\paginator.py'>"
      ]
     },
     "execution_count": 40,
     "metadata": {},
     "output_type": "execute_result"
    }
   ],
   "source": [
    "\n",
    "paginator"
   ]
  },
  {
   "cell_type": "code",
   "execution_count": 41,
   "metadata": {},
   "outputs": [],
   "source": [
    "def download_dir(local_path, s3_prefix):\n",
    "    os.makedirs(local_path, exist_ok=True)\n",
    "    paginator = s3.get_paginator('list_objects_v2')\n",
    "    for result in paginator.paginate(Bucket = bucket_name, Prefix = s3_prefix):\n",
    "        if 'Contents' in result:\n",
    "            for key in result['Contents']:\n",
    "                s3_key = key['Key']\n",
    "\n",
    "                local_file = os.path.join(local_path, os.path.relpath(s3_key, s3_prefix))\n",
    "\n",
    "                s3.download_file(bucket_name, s3_key, local_file)"
   ]
  },
  {
   "cell_type": "code",
   "execution_count": 42,
   "metadata": {},
   "outputs": [
    {
     "ename": "PermissionError",
     "evalue": "[WinError 5] Access is denied: 'mlops-tinybert-sentimentanalysis\\\\.'",
     "output_type": "error",
     "traceback": [
      "\u001b[1;31m---------------------------------------------------------------------------\u001b[0m",
      "\u001b[1;31mPermissionError\u001b[0m                           Traceback (most recent call last)",
      "Cell \u001b[1;32mIn[42], line 1\u001b[0m\n\u001b[1;32m----> 1\u001b[0m \u001b[43mdownload_dir\u001b[49m\u001b[43m(\u001b[49m\u001b[43mlocal_path\u001b[49m\u001b[38;5;241;43m=\u001b[39;49m\u001b[43mlocal_path\u001b[49m\u001b[43m,\u001b[49m\u001b[43m \u001b[49m\u001b[43ms3_prefix\u001b[49m\u001b[38;5;241;43m=\u001b[39;49m\u001b[43ms3_prefix\u001b[49m\u001b[43m)\u001b[49m\n",
      "Cell \u001b[1;32mIn[41], line 11\u001b[0m, in \u001b[0;36mdownload_dir\u001b[1;34m(local_path, s3_prefix)\u001b[0m\n\u001b[0;32m      7\u001b[0m s3_key \u001b[38;5;241m=\u001b[39m key[\u001b[38;5;124m'\u001b[39m\u001b[38;5;124mKey\u001b[39m\u001b[38;5;124m'\u001b[39m]\n\u001b[0;32m      9\u001b[0m local_file \u001b[38;5;241m=\u001b[39m os\u001b[38;5;241m.\u001b[39mpath\u001b[38;5;241m.\u001b[39mjoin(local_path, os\u001b[38;5;241m.\u001b[39mpath\u001b[38;5;241m.\u001b[39mrelpath(s3_key, s3_prefix))\n\u001b[1;32m---> 11\u001b[0m \u001b[43ms3\u001b[49m\u001b[38;5;241;43m.\u001b[39;49m\u001b[43mdownload_file\u001b[49m\u001b[43m(\u001b[49m\u001b[43mbucket_name\u001b[49m\u001b[43m,\u001b[49m\u001b[43m \u001b[49m\u001b[43ms3_key\u001b[49m\u001b[43m,\u001b[49m\u001b[43m \u001b[49m\u001b[43mlocal_file\u001b[49m\u001b[43m)\u001b[49m\n",
      "File \u001b[1;32mc:\\Users\\Aniket\\Desktop\\MLOPS_UDEMY\\.venv\\Lib\\site-packages\\boto3\\s3\\inject.py:192\u001b[0m, in \u001b[0;36mdownload_file\u001b[1;34m(self, Bucket, Key, Filename, ExtraArgs, Callback, Config)\u001b[0m\n\u001b[0;32m    157\u001b[0m \u001b[38;5;250m\u001b[39m\u001b[38;5;124;03m\"\"\"Download an S3 object to a file.\u001b[39;00m\n\u001b[0;32m    158\u001b[0m \n\u001b[0;32m    159\u001b[0m \u001b[38;5;124;03mUsage::\u001b[39;00m\n\u001b[1;32m   (...)\u001b[0m\n\u001b[0;32m    189\u001b[0m \u001b[38;5;124;03m    transfer.\u001b[39;00m\n\u001b[0;32m    190\u001b[0m \u001b[38;5;124;03m\"\"\"\u001b[39;00m\n\u001b[0;32m    191\u001b[0m \u001b[38;5;28;01mwith\u001b[39;00m S3Transfer(\u001b[38;5;28mself\u001b[39m, Config) \u001b[38;5;28;01mas\u001b[39;00m transfer:\n\u001b[1;32m--> 192\u001b[0m     \u001b[38;5;28;01mreturn\u001b[39;00m \u001b[43mtransfer\u001b[49m\u001b[38;5;241;43m.\u001b[39;49m\u001b[43mdownload_file\u001b[49m\u001b[43m(\u001b[49m\n\u001b[0;32m    193\u001b[0m \u001b[43m        \u001b[49m\u001b[43mbucket\u001b[49m\u001b[38;5;241;43m=\u001b[39;49m\u001b[43mBucket\u001b[49m\u001b[43m,\u001b[49m\n\u001b[0;32m    194\u001b[0m \u001b[43m        \u001b[49m\u001b[43mkey\u001b[49m\u001b[38;5;241;43m=\u001b[39;49m\u001b[43mKey\u001b[49m\u001b[43m,\u001b[49m\n\u001b[0;32m    195\u001b[0m \u001b[43m        \u001b[49m\u001b[43mfilename\u001b[49m\u001b[38;5;241;43m=\u001b[39;49m\u001b[43mFilename\u001b[49m\u001b[43m,\u001b[49m\n\u001b[0;32m    196\u001b[0m \u001b[43m        \u001b[49m\u001b[43mextra_args\u001b[49m\u001b[38;5;241;43m=\u001b[39;49m\u001b[43mExtraArgs\u001b[49m\u001b[43m,\u001b[49m\n\u001b[0;32m    197\u001b[0m \u001b[43m        \u001b[49m\u001b[43mcallback\u001b[49m\u001b[38;5;241;43m=\u001b[39;49m\u001b[43mCallback\u001b[49m\u001b[43m,\u001b[49m\n\u001b[0;32m    198\u001b[0m \u001b[43m    \u001b[49m\u001b[43m)\u001b[49m\n",
      "File \u001b[1;32mc:\\Users\\Aniket\\Desktop\\MLOPS_UDEMY\\.venv\\Lib\\site-packages\\boto3\\s3\\transfer.py:406\u001b[0m, in \u001b[0;36mS3Transfer.download_file\u001b[1;34m(self, bucket, key, filename, extra_args, callback)\u001b[0m\n\u001b[0;32m    402\u001b[0m future \u001b[38;5;241m=\u001b[39m \u001b[38;5;28mself\u001b[39m\u001b[38;5;241m.\u001b[39m_manager\u001b[38;5;241m.\u001b[39mdownload(\n\u001b[0;32m    403\u001b[0m     bucket, key, filename, extra_args, subscribers\n\u001b[0;32m    404\u001b[0m )\n\u001b[0;32m    405\u001b[0m \u001b[38;5;28;01mtry\u001b[39;00m:\n\u001b[1;32m--> 406\u001b[0m     \u001b[43mfuture\u001b[49m\u001b[38;5;241;43m.\u001b[39;49m\u001b[43mresult\u001b[49m\u001b[43m(\u001b[49m\u001b[43m)\u001b[49m\n\u001b[0;32m    407\u001b[0m \u001b[38;5;66;03m# This is for backwards compatibility where when retries are\u001b[39;00m\n\u001b[0;32m    408\u001b[0m \u001b[38;5;66;03m# exceeded we need to throw the same error from boto3 instead of\u001b[39;00m\n\u001b[0;32m    409\u001b[0m \u001b[38;5;66;03m# s3transfer's built in RetriesExceededError as current users are\u001b[39;00m\n\u001b[0;32m    410\u001b[0m \u001b[38;5;66;03m# catching the boto3 one instead of the s3transfer exception to do\u001b[39;00m\n\u001b[0;32m    411\u001b[0m \u001b[38;5;66;03m# their own retries.\u001b[39;00m\n\u001b[0;32m    412\u001b[0m \u001b[38;5;28;01mexcept\u001b[39;00m S3TransferRetriesExceededError \u001b[38;5;28;01mas\u001b[39;00m e:\n",
      "File \u001b[1;32mc:\\Users\\Aniket\\Desktop\\MLOPS_UDEMY\\.venv\\Lib\\site-packages\\s3transfer\\futures.py:103\u001b[0m, in \u001b[0;36mTransferFuture.result\u001b[1;34m(self)\u001b[0m\n\u001b[0;32m     98\u001b[0m \u001b[38;5;28;01mdef\u001b[39;00m \u001b[38;5;21mresult\u001b[39m(\u001b[38;5;28mself\u001b[39m):\n\u001b[0;32m     99\u001b[0m     \u001b[38;5;28;01mtry\u001b[39;00m:\n\u001b[0;32m    100\u001b[0m         \u001b[38;5;66;03m# Usually the result() method blocks until the transfer is done,\u001b[39;00m\n\u001b[0;32m    101\u001b[0m         \u001b[38;5;66;03m# however if a KeyboardInterrupt is raised we want want to exit\u001b[39;00m\n\u001b[0;32m    102\u001b[0m         \u001b[38;5;66;03m# out of this and propagate the exception.\u001b[39;00m\n\u001b[1;32m--> 103\u001b[0m         \u001b[38;5;28;01mreturn\u001b[39;00m \u001b[38;5;28;43mself\u001b[39;49m\u001b[38;5;241;43m.\u001b[39;49m\u001b[43m_coordinator\u001b[49m\u001b[38;5;241;43m.\u001b[39;49m\u001b[43mresult\u001b[49m\u001b[43m(\u001b[49m\u001b[43m)\u001b[49m\n\u001b[0;32m    104\u001b[0m     \u001b[38;5;28;01mexcept\u001b[39;00m \u001b[38;5;167;01mKeyboardInterrupt\u001b[39;00m \u001b[38;5;28;01mas\u001b[39;00m e:\n\u001b[0;32m    105\u001b[0m         \u001b[38;5;28mself\u001b[39m\u001b[38;5;241m.\u001b[39mcancel()\n",
      "File \u001b[1;32mc:\\Users\\Aniket\\Desktop\\MLOPS_UDEMY\\.venv\\Lib\\site-packages\\s3transfer\\futures.py:266\u001b[0m, in \u001b[0;36mTransferCoordinator.result\u001b[1;34m(self)\u001b[0m\n\u001b[0;32m    263\u001b[0m \u001b[38;5;66;03m# Once done waiting, raise an exception if present or return the\u001b[39;00m\n\u001b[0;32m    264\u001b[0m \u001b[38;5;66;03m# final result.\u001b[39;00m\n\u001b[0;32m    265\u001b[0m \u001b[38;5;28;01mif\u001b[39;00m \u001b[38;5;28mself\u001b[39m\u001b[38;5;241m.\u001b[39m_exception:\n\u001b[1;32m--> 266\u001b[0m     \u001b[38;5;28;01mraise\u001b[39;00m \u001b[38;5;28mself\u001b[39m\u001b[38;5;241m.\u001b[39m_exception\n\u001b[0;32m    267\u001b[0m \u001b[38;5;28;01mreturn\u001b[39;00m \u001b[38;5;28mself\u001b[39m\u001b[38;5;241m.\u001b[39m_result\n",
      "File \u001b[1;32mc:\\Users\\Aniket\\Desktop\\MLOPS_UDEMY\\.venv\\Lib\\site-packages\\s3transfer\\tasks.py:139\u001b[0m, in \u001b[0;36mTask.__call__\u001b[1;34m(self)\u001b[0m\n\u001b[0;32m    135\u001b[0m     \u001b[38;5;66;03m# If the task is not done (really only if some other related\u001b[39;00m\n\u001b[0;32m    136\u001b[0m     \u001b[38;5;66;03m# task to the TransferFuture had failed) then execute the task's\u001b[39;00m\n\u001b[0;32m    137\u001b[0m     \u001b[38;5;66;03m# main() method.\u001b[39;00m\n\u001b[0;32m    138\u001b[0m     \u001b[38;5;28;01mif\u001b[39;00m \u001b[38;5;129;01mnot\u001b[39;00m \u001b[38;5;28mself\u001b[39m\u001b[38;5;241m.\u001b[39m_transfer_coordinator\u001b[38;5;241m.\u001b[39mdone():\n\u001b[1;32m--> 139\u001b[0m         \u001b[38;5;28;01mreturn\u001b[39;00m \u001b[38;5;28;43mself\u001b[39;49m\u001b[38;5;241;43m.\u001b[39;49m\u001b[43m_execute_main\u001b[49m\u001b[43m(\u001b[49m\u001b[43mkwargs\u001b[49m\u001b[43m)\u001b[49m\n\u001b[0;32m    140\u001b[0m \u001b[38;5;28;01mexcept\u001b[39;00m \u001b[38;5;167;01mException\u001b[39;00m \u001b[38;5;28;01mas\u001b[39;00m e:\n\u001b[0;32m    141\u001b[0m     \u001b[38;5;28mself\u001b[39m\u001b[38;5;241m.\u001b[39m_log_and_set_exception(e)\n",
      "File \u001b[1;32mc:\\Users\\Aniket\\Desktop\\MLOPS_UDEMY\\.venv\\Lib\\site-packages\\s3transfer\\tasks.py:162\u001b[0m, in \u001b[0;36mTask._execute_main\u001b[1;34m(self, kwargs)\u001b[0m\n\u001b[0;32m    159\u001b[0m \u001b[38;5;66;03m# Log what is about to be executed.\u001b[39;00m\n\u001b[0;32m    160\u001b[0m logger\u001b[38;5;241m.\u001b[39mdebug(\u001b[38;5;124mf\u001b[39m\u001b[38;5;124m\"\u001b[39m\u001b[38;5;124mExecuting task \u001b[39m\u001b[38;5;132;01m{\u001b[39;00m\u001b[38;5;28mself\u001b[39m\u001b[38;5;132;01m}\u001b[39;00m\u001b[38;5;124m with kwargs \u001b[39m\u001b[38;5;132;01m{\u001b[39;00mkwargs_to_display\u001b[38;5;132;01m}\u001b[39;00m\u001b[38;5;124m\"\u001b[39m)\n\u001b[1;32m--> 162\u001b[0m return_value \u001b[38;5;241m=\u001b[39m \u001b[38;5;28;43mself\u001b[39;49m\u001b[38;5;241;43m.\u001b[39;49m\u001b[43m_main\u001b[49m\u001b[43m(\u001b[49m\u001b[38;5;241;43m*\u001b[39;49m\u001b[38;5;241;43m*\u001b[39;49m\u001b[43mkwargs\u001b[49m\u001b[43m)\u001b[49m\n\u001b[0;32m    163\u001b[0m \u001b[38;5;66;03m# If the task is the final task, then set the TransferFuture's\u001b[39;00m\n\u001b[0;32m    164\u001b[0m \u001b[38;5;66;03m# value to the return value from main().\u001b[39;00m\n\u001b[0;32m    165\u001b[0m \u001b[38;5;28;01mif\u001b[39;00m \u001b[38;5;28mself\u001b[39m\u001b[38;5;241m.\u001b[39m_is_final:\n",
      "File \u001b[1;32mc:\\Users\\Aniket\\Desktop\\MLOPS_UDEMY\\.venv\\Lib\\site-packages\\s3transfer\\download.py:673\u001b[0m, in \u001b[0;36mIORenameFileTask._main\u001b[1;34m(self, fileobj, final_filename, osutil)\u001b[0m\n\u001b[0;32m    671\u001b[0m \u001b[38;5;28;01mdef\u001b[39;00m \u001b[38;5;21m_main\u001b[39m(\u001b[38;5;28mself\u001b[39m, fileobj, final_filename, osutil):\n\u001b[0;32m    672\u001b[0m     fileobj\u001b[38;5;241m.\u001b[39mclose()\n\u001b[1;32m--> 673\u001b[0m     \u001b[43mosutil\u001b[49m\u001b[38;5;241;43m.\u001b[39;49m\u001b[43mrename_file\u001b[49m\u001b[43m(\u001b[49m\u001b[43mfileobj\u001b[49m\u001b[38;5;241;43m.\u001b[39;49m\u001b[43mname\u001b[49m\u001b[43m,\u001b[49m\u001b[43m \u001b[49m\u001b[43mfinal_filename\u001b[49m\u001b[43m)\u001b[49m\n",
      "File \u001b[1;32mc:\\Users\\Aniket\\Desktop\\MLOPS_UDEMY\\.venv\\Lib\\site-packages\\s3transfer\\utils.py:293\u001b[0m, in \u001b[0;36mOSUtils.rename_file\u001b[1;34m(self, current_filename, new_filename)\u001b[0m\n\u001b[0;32m    292\u001b[0m \u001b[38;5;28;01mdef\u001b[39;00m \u001b[38;5;21mrename_file\u001b[39m(\u001b[38;5;28mself\u001b[39m, current_filename, new_filename):\n\u001b[1;32m--> 293\u001b[0m     \u001b[43mrename_file\u001b[49m\u001b[43m(\u001b[49m\u001b[43mcurrent_filename\u001b[49m\u001b[43m,\u001b[49m\u001b[43m \u001b[49m\u001b[43mnew_filename\u001b[49m\u001b[43m)\u001b[49m\n",
      "File \u001b[1;32mc:\\Users\\Aniket\\Desktop\\MLOPS_UDEMY\\.venv\\Lib\\site-packages\\s3transfer\\compat.py:24\u001b[0m, in \u001b[0;36mrename_file\u001b[1;34m(current_filename, new_filename)\u001b[0m\n\u001b[0;32m     22\u001b[0m \u001b[38;5;28;01mdef\u001b[39;00m \u001b[38;5;21mrename_file\u001b[39m(current_filename, new_filename):\n\u001b[0;32m     23\u001b[0m     \u001b[38;5;28;01mtry\u001b[39;00m:\n\u001b[1;32m---> 24\u001b[0m         \u001b[43mos\u001b[49m\u001b[38;5;241;43m.\u001b[39;49m\u001b[43mremove\u001b[49m\u001b[43m(\u001b[49m\u001b[43mnew_filename\u001b[49m\u001b[43m)\u001b[49m\n\u001b[0;32m     25\u001b[0m     \u001b[38;5;28;01mexcept\u001b[39;00m \u001b[38;5;167;01mOSError\u001b[39;00m \u001b[38;5;28;01mas\u001b[39;00m e:\n\u001b[0;32m     26\u001b[0m         \u001b[38;5;28;01mif\u001b[39;00m \u001b[38;5;129;01mnot\u001b[39;00m e\u001b[38;5;241m.\u001b[39merrno \u001b[38;5;241m==\u001b[39m errno\u001b[38;5;241m.\u001b[39mENOENT:\n\u001b[0;32m     27\u001b[0m             \u001b[38;5;66;03m# We only want to a ignore trying to remove\u001b[39;00m\n\u001b[0;32m     28\u001b[0m             \u001b[38;5;66;03m# a file that does not exist.  If it fails\u001b[39;00m\n\u001b[0;32m     29\u001b[0m             \u001b[38;5;66;03m# for any other reason we should be propagating\u001b[39;00m\n\u001b[0;32m     30\u001b[0m             \u001b[38;5;66;03m# that exception.\u001b[39;00m\n",
      "\u001b[1;31mPermissionError\u001b[0m: [WinError 5] Access is denied: 'mlops-tinybert-sentimentanalysis\\\\.'"
     ]
    }
   ],
   "source": [
    "download_dir(local_path=local_path, s3_prefix=s3_prefix)"
   ]
  },
  {
   "cell_type": "code",
   "execution_count": null,
   "metadata": {},
   "outputs": [
    {
     "name": "stdout",
     "output_type": "stream",
     "text": [
      "{'ResponseMetadata': {'RequestId': 'CA2N96ZKAAYW8W4P', 'HostId': '0KSkzfhmJSw9TpGOZz5mC64fpbfoZkOes9rZUwepe1Cby97Z7yW2kCRVXZUBndQU+rwUWjaiY+k=', 'HTTPStatusCode': 200, 'HTTPHeaders': {'x-amz-id-2': '0KSkzfhmJSw9TpGOZz5mC64fpbfoZkOes9rZUwepe1Cby97Z7yW2kCRVXZUBndQU+rwUWjaiY+k=', 'x-amz-request-id': 'CA2N96ZKAAYW8W4P', 'date': 'Sun, 10 Nov 2024 08:44:54 GMT', 'x-amz-bucket-region': 'ap-south-1', 'content-type': 'application/xml', 'transfer-encoding': 'chunked', 'server': 'AmazonS3'}, 'RetryAttempts': 0}, 'IsTruncated': False, 'Contents': [{'Key': 'ml_model/', 'LastModified': datetime.datetime(2024, 11, 9, 20, 33, 54, tzinfo=tzutc()), 'ETag': '\"d41d8cd98f00b204e9800998ecf8427e\"', 'Size': 0, 'StorageClass': 'STANDARD'}, {'Key': 'ml_model/config.json', 'LastModified': datetime.datetime(2024, 11, 9, 20, 35, 55, tzinfo=tzutc()), 'ETag': '\"3f3d676e07b75625e9841bb13e89d115\"', 'Size': 903, 'StorageClass': 'STANDARD'}, {'Key': 'ml_model/model.safetensors', 'LastModified': datetime.datetime(2024, 11, 9, 20, 35, 55, tzinfo=tzutc()), 'ETag': '\"a0f8ff30c14f8a0b72fe4e993bf68625\"', 'Size': 57411808, 'StorageClass': 'STANDARD'}, {'Key': 'ml_model/model.txt', 'LastModified': datetime.datetime(2024, 11, 9, 20, 35, 55, tzinfo=tzutc()), 'ETag': '\"de02cb4cfd6e18b47cd460807c979604\"', 'Size': 22, 'StorageClass': 'STANDARD'}, {'Key': 'ml_model/special_tokens_map.json', 'LastModified': datetime.datetime(2024, 11, 9, 20, 35, 55, tzinfo=tzutc()), 'ETag': '\"29ba428df177361130afa82cf0883098\"', 'Size': 125, 'StorageClass': 'STANDARD'}, {'Key': 'ml_model/tokenizer.json', 'LastModified': datetime.datetime(2024, 11, 9, 20, 35, 56, tzinfo=tzutc()), 'ETag': '\"91e76ecd704f2648bea4d78f08ba2bca\"', 'Size': 711649, 'StorageClass': 'STANDARD'}, {'Key': 'ml_model/tokenizer_config.json', 'LastModified': datetime.datetime(2024, 11, 9, 20, 35, 55, tzinfo=tzutc()), 'ETag': '\"38b1f93fe782663b23c93495e4af72b5\"', 'Size': 1270, 'StorageClass': 'STANDARD'}, {'Key': 'ml_model/training_args.bin', 'LastModified': datetime.datetime(2024, 11, 9, 20, 35, 56, tzinfo=tzutc()), 'ETag': '\"2b88a24041a0f75bf2bfdca96ee765e1\"', 'Size': 5240, 'StorageClass': 'STANDARD'}, {'Key': 'ml_model/vocab.txt', 'LastModified': datetime.datetime(2024, 11, 9, 20, 35, 56, tzinfo=tzutc()), 'ETag': '\"64800d5d8528ce344256daf115d4965e\"', 'Size': 231508, 'StorageClass': 'STANDARD'}], 'Name': 'mlops-tinybert-sentimentanalysis', 'Prefix': 'ml_model/', 'MaxKeys': 1000, 'EncodingType': 'url', 'KeyCount': 9}\n",
      "ml_model/\n",
      "ml_model/config.json\n",
      "ml_model/model.safetensors\n",
      "ml_model/model.txt\n",
      "ml_model/special_tokens_map.json\n",
      "ml_model/tokenizer.json\n",
      "ml_model/tokenizer_config.json\n",
      "ml_model/training_args.bin\n",
      "ml_model/vocab.txt\n"
     ]
    }
   ],
   "source": [
    "for results in paginator.paginate(Bucket = bucket_name, Prefix = s3_prefix):\n",
    "    print(results)\n",
    "    if 'Contents' in results:\n",
    "        for key in results['Contents']:\n",
    "            print(key['Key'])"
   ]
  },
  {
   "cell_type": "code",
   "execution_count": null,
   "metadata": {},
   "outputs": [],
   "source": []
  },
  {
   "cell_type": "code",
   "execution_count": null,
   "metadata": {},
   "outputs": [],
   "source": []
  }
 ],
 "metadata": {
  "kernelspec": {
   "display_name": ".venv",
   "language": "python",
   "name": ".venv"
  },
  "language_info": {
   "codemirror_mode": {
    "name": "ipython",
    "version": 3
   },
   "file_extension": ".py",
   "mimetype": "text/x-python",
   "name": "python",
   "nbconvert_exporter": "python",
   "pygments_lexer": "ipython3",
   "version": "3.12.3"
  }
 },
 "nbformat": 4,
 "nbformat_minor": 2
}
